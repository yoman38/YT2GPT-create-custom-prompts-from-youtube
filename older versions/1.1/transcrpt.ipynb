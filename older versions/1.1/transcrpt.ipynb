{
 "cells": [
  {
   "cell_type": "code",
   "execution_count": 6,
   "metadata": {},
   "outputs": [],
   "source": [
    "from youtube_transcript_api import YouTubeTranscriptApi\n",
    "import textwrap\n",
    "\n",
    "# Step 1: Get the transcript\n",
    "def get_transcript(video_id):\n",
    "    transcript_list = YouTubeTranscriptApi.list_transcripts(video_id)\n",
    "    # Try to get a manually created transcript\n",
    "    try:\n",
    "        transcript = transcript_list.find_manually_created_transcript(transcript_list._manually_created_transcripts.keys())\n",
    "    except:\n",
    "        # If no manually created transcript is found, get an automatically generated one\n",
    "        transcript = transcript_list.find_generated_transcript(transcript_list._generated_transcripts.keys())\n",
    "    transcript_data = transcript.fetch()\n",
    "    transcript_text = \" \".join([item['text'] for item in transcript_data])\n",
    "    return transcript_text\n",
    "\n",
    "# Step 2: Divide the transcript into sections\n",
    "def divide_transcript(transcript):\n",
    "    sections = textwrap.wrap(transcript, 15000)\n",
    "    return sections\n",
    "\n",
    "# Step 3: Create the GPT prompts\n",
    "def create_prompts(sections):\n",
    "    prompts = []\n",
    "    total_sections = len(sections)\n",
    "    for i, section in enumerate(sections):\n",
    "        start_marker = f\"[START CHUNK {i+1}/{total_sections}]\"\n",
    "        end_marker = f\"[END CHUNK {i+1}/{total_sections}], now resume this chunk with a bullet list\"\n",
    "        if i == 0:  # This is the first chunk\n",
    "            prompts.append(f\"I will send you a transcription of someone speaking. Help me understand what he said; resume with a bullet list.\\n{start_marker}\\n{section}\\n{end_marker}\")\n",
    "        else:\n",
    "            prompts.append(f\"{start_marker}\\n{section}\\n{end_marker}\")\n",
    "    return prompts\n",
    "\n",
    "# Use the functions\n",
    "video_id = \"D81Xh9FSjG8\"\n",
    "transcript = get_transcript(video_id)\n",
    "sections = divide_transcript(transcript)\n",
    "prompts = create_prompts(sections)\n"
   ]
  }
 ],
 "metadata": {
  "kernelspec": {
   "display_name": "Python 3",
   "language": "python",
   "name": "python3"
  },
  "language_info": {
   "codemirror_mode": {
    "name": "ipython",
    "version": 3
   },
   "file_extension": ".py",
   "mimetype": "text/x-python",
   "name": "python",
   "nbconvert_exporter": "python",
   "pygments_lexer": "ipython3",
   "version": "3.11.4"
  },
  "orig_nbformat": 4
 },
 "nbformat": 4,
 "nbformat_minor": 2
}
